{
  "nbformat": 4,
  "nbformat_minor": 0,
  "metadata": {
    "colab": {
      "name": "Lab_01_DA Jupyter.ipynb",
      "version": "0.3.2",
      "provenance": []
    },
    "kernelspec": {
      "display_name": "Python 3",
      "language": "python",
      "name": "python3"
    }
  },
  "cells": [
    {
      "metadata": {
        "id": "lZ0JOJeM5vyL",
        "colab_type": "text"
      },
      "cell_type": "markdown",
      "source": [
        "# Jupyter notebook\n",
        "\n",
        "Jupyter notebook is an application running in the browser that provides an interactive Python environment.\n"
      ]
    },
    {
      "metadata": {
        "id": "mt3fkHb25vyN",
        "colab_type": "text"
      },
      "cell_type": "markdown",
      "source": [
        "## Exercise 1"
      ]
    },
    {
      "metadata": {
        "id": "DeH6kHv15vyO",
        "colab_type": "text"
      },
      "cell_type": "markdown",
      "source": [
        "1. Try to edit the text in this cell: click on it and press `ENTER`\n",
        "2. When done press `Ctrl-ENTER`"
      ]
    },
    {
      "metadata": {
        "id": "Y8n8EW-25vyO",
        "colab_type": "text"
      },
      "cell_type": "markdown",
      "source": [
        "## Exercise 2"
      ]
    },
    {
      "metadata": {
        "id": "t3mTIxDn5vyP",
        "colab_type": "text"
      },
      "cell_type": "markdown",
      "source": [
        "The `ESC` key enables the Command Mode. Try it. You'll see the border of the notebook change to Blue.\n",
        "\n",
        "Cells can be text or code. Try running the code in the next cell by pressing `Shift-ENTER`"
      ]
    },
    {
      "metadata": {
        "id": "CBIL2xIR5vyS",
        "colab_type": "code",
        "colab": {
          "base_uri": "https://localhost:8080/",
          "height": 34
        },
        "outputId": "f30921cd-f9c4-4109-ca3d-cf7b3a85e1d4"
      },
      "cell_type": "code",
      "source": [
        "2 + 2"
      ],
      "execution_count": 1,
      "outputs": [
        {
          "output_type": "execute_result",
          "data": {
            "text/plain": [
              "4"
            ]
          },
          "metadata": {
            "tags": []
          },
          "execution_count": 1
        }
      ]
    },
    {
      "metadata": {
        "id": "0ZK0Oz5p6aXI",
        "colab_type": "text"
      },
      "cell_type": "markdown",
      "source": [
        ""
      ]
    },
    {
      "metadata": {
        "id": "m-Hp2Pc55vyW",
        "colab_type": "text"
      },
      "cell_type": "markdown",
      "source": [
        "## Exercise 3"
      ]
    },
    {
      "metadata": {
        "id": "D33pOVKR5vyX",
        "colab_type": "text"
      },
      "cell_type": "markdown",
      "source": [
        "Great! Now try practice adding and deleting cells with the following 3 commands:\n",
        "\n",
        "- A: insert cell above\n",
        "- B: insert cell below\n",
        "- Arrows: navigate up/down\n",
        "- DD: delete cell"
      ]
    },
    {
      "metadata": {
        "id": "ZRZ6lNbG5vyX",
        "colab_type": "code",
        "colab": {}
      },
      "cell_type": "code",
      "source": [
        ""
      ],
      "execution_count": 0,
      "outputs": []
    },
    {
      "metadata": {
        "id": "VjBQYk5T5vya",
        "colab_type": "text"
      },
      "cell_type": "markdown",
      "source": [
        "## Exercise 4"
      ]
    },
    {
      "metadata": {
        "id": "_yddD_EW5vya",
        "colab_type": "text"
      },
      "cell_type": "markdown",
      "source": [
        "Try converting a cell from text to code and viceversa using these commands:\n",
        "\n",
        "- Y: to code\n",
        "- M: to markdown (text)"
      ]
    },
    {
      "metadata": {
        "id": "H3-iv51H5vyc",
        "colab_type": "code",
        "colab": {
          "base_uri": "https://localhost:8080/",
          "height": 34
        },
        "outputId": "b9b5ff9a-ada3-43fd-dadc-c40232ec97a6"
      },
      "cell_type": "code",
      "source": [
        "8+8"
      ],
      "execution_count": 2,
      "outputs": [
        {
          "output_type": "execute_result",
          "data": {
            "text/plain": [
              "16"
            ]
          },
          "metadata": {
            "tags": []
          },
          "execution_count": 2
        }
      ]
    },
    {
      "metadata": {
        "id": "5_aaI5Z_5vye",
        "colab_type": "text"
      },
      "cell_type": "markdown",
      "source": [
        "## Exercise 5"
      ]
    },
    {
      "metadata": {
        "id": "upgcU2e_5vyf",
        "colab_type": "text"
      },
      "cell_type": "markdown",
      "source": [
        "Practice looking for help:\n",
        "- Use `SHIFT + TAB + TAB` to retrieve a function documentation\n",
        "- Use `DOT + TAB` to list the methods and attributes of a class"
      ]
    },
    {
      "metadata": {
        "id": "MO6YM5YV5vyg",
        "colab_type": "code",
        "colab": {}
      },
      "cell_type": "code",
      "source": [
        "# place your cursor within parenthese and hit `SHIFT + TAB + TAB`\n",
        "len([1, 2, 3])"
      ],
      "execution_count": 0,
      "outputs": []
    },
    {
      "metadata": {
        "id": "kx4c--zJ5vyi",
        "colab_type": "text"
      },
      "cell_type": "markdown",
      "source": [
        "## Exercise 6"
      ]
    },
    {
      "metadata": {
        "id": "EhyBz-ft5vyj",
        "colab_type": "text"
      },
      "cell_type": "markdown",
      "source": [
        "In Command Mode press `H` to access the help dialog with all the keyboard shortcuts. Look for an interesting command and share it with the person next to you."
      ]
    },
    {
      "metadata": {
        "id": "QefQ8yCH5vyl",
        "colab_type": "code",
        "colab": {}
      },
      "cell_type": "code",
      "source": [
        ""
      ],
      "execution_count": 0,
      "outputs": []
    }
  ]
}